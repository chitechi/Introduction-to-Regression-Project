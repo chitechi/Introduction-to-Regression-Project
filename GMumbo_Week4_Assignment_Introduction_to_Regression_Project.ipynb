{
  "nbformat": 4,
  "nbformat_minor": 0,
  "metadata": {
    "colab": {
      "provenance": [],
      "toc_visible": true
    },
    "kernelspec": {
      "name": "python3",
      "display_name": "Python 3"
    },
    "language_info": {
      "name": "python"
    }
  },
  "cells": [
    {
      "cell_type": "markdown",
      "source": [
        "#Introduction to Regression Project"
      ],
      "metadata": {
        "id": "fDsWHPMAivAq"
      }
    },
    {
      "cell_type": "markdown",
      "source": [
        "##Problem Statement\n"
      ],
      "metadata": {
        "id": "Uoz-jQR7izFH"
      }
    },
    {
      "cell_type": "markdown",
      "source": [
        "Mobile carrier Megaline has found out that many of their subscribers use legacy plans.\n",
        "They want to develop a model that would analyze subscribers' behavior and recommend\n",
        "one of Megaline's newer plans: Smart or Ultra.\n",
        "You have access to behavior data about subscribers who have already switched to the\n",
        "new plans (from the project for the Statistical Data Analysis course). For this\n",
        "classification task, you need to develop a model that will pick the right plan. Since you’ve\n",
        "already performed the data preprocessing step, you can move straight to creating the\n",
        "model.\n",
        "Develop a model with the highest possible accuracy. In this project, the threshold for\n",
        "accuracy is 0.75. Check the accuracy using the test dataset.\n"
      ],
      "metadata": {
        "id": "BHwjDZ6_i4bs"
      }
    },
    {
      "cell_type": "markdown",
      "source": [
        "## Data Importation"
      ],
      "metadata": {
        "id": "BZY7r_d7jF5k"
      }
    },
    {
      "cell_type": "code",
      "execution_count": 3,
      "metadata": {
        "id": "h7USyVrKiqYd",
        "colab": {
          "base_uri": "https://localhost:8080/",
          "height": 206
        },
        "outputId": "aaf530bd-59c0-4837-c961-02c7c035173a"
      },
      "outputs": [
        {
          "output_type": "execute_result",
          "data": {
            "text/plain": [
              "   calls  minutes  messages   mb_used  is_ultra\n",
              "0   40.0   311.90      83.0  19915.42         0\n",
              "1   85.0   516.75      56.0  22696.96         0\n",
              "2   77.0   467.66      86.0  21060.45         0\n",
              "3  106.0   745.53      81.0   8437.39         1\n",
              "4   66.0   418.74       1.0  14502.75         0"
            ],
            "text/html": [
              "\n",
              "  <div id=\"df-22785a72-0465-40c7-ae1e-8b6dac446505\">\n",
              "    <div class=\"colab-df-container\">\n",
              "      <div>\n",
              "<style scoped>\n",
              "    .dataframe tbody tr th:only-of-type {\n",
              "        vertical-align: middle;\n",
              "    }\n",
              "\n",
              "    .dataframe tbody tr th {\n",
              "        vertical-align: top;\n",
              "    }\n",
              "\n",
              "    .dataframe thead th {\n",
              "        text-align: right;\n",
              "    }\n",
              "</style>\n",
              "<table border=\"1\" class=\"dataframe\">\n",
              "  <thead>\n",
              "    <tr style=\"text-align: right;\">\n",
              "      <th></th>\n",
              "      <th>calls</th>\n",
              "      <th>minutes</th>\n",
              "      <th>messages</th>\n",
              "      <th>mb_used</th>\n",
              "      <th>is_ultra</th>\n",
              "    </tr>\n",
              "  </thead>\n",
              "  <tbody>\n",
              "    <tr>\n",
              "      <th>0</th>\n",
              "      <td>40.0</td>\n",
              "      <td>311.90</td>\n",
              "      <td>83.0</td>\n",
              "      <td>19915.42</td>\n",
              "      <td>0</td>\n",
              "    </tr>\n",
              "    <tr>\n",
              "      <th>1</th>\n",
              "      <td>85.0</td>\n",
              "      <td>516.75</td>\n",
              "      <td>56.0</td>\n",
              "      <td>22696.96</td>\n",
              "      <td>0</td>\n",
              "    </tr>\n",
              "    <tr>\n",
              "      <th>2</th>\n",
              "      <td>77.0</td>\n",
              "      <td>467.66</td>\n",
              "      <td>86.0</td>\n",
              "      <td>21060.45</td>\n",
              "      <td>0</td>\n",
              "    </tr>\n",
              "    <tr>\n",
              "      <th>3</th>\n",
              "      <td>106.0</td>\n",
              "      <td>745.53</td>\n",
              "      <td>81.0</td>\n",
              "      <td>8437.39</td>\n",
              "      <td>1</td>\n",
              "    </tr>\n",
              "    <tr>\n",
              "      <th>4</th>\n",
              "      <td>66.0</td>\n",
              "      <td>418.74</td>\n",
              "      <td>1.0</td>\n",
              "      <td>14502.75</td>\n",
              "      <td>0</td>\n",
              "    </tr>\n",
              "  </tbody>\n",
              "</table>\n",
              "</div>\n",
              "      <button class=\"colab-df-convert\" onclick=\"convertToInteractive('df-22785a72-0465-40c7-ae1e-8b6dac446505')\"\n",
              "              title=\"Convert this dataframe to an interactive table.\"\n",
              "              style=\"display:none;\">\n",
              "        \n",
              "  <svg xmlns=\"http://www.w3.org/2000/svg\" height=\"24px\"viewBox=\"0 0 24 24\"\n",
              "       width=\"24px\">\n",
              "    <path d=\"M0 0h24v24H0V0z\" fill=\"none\"/>\n",
              "    <path d=\"M18.56 5.44l.94 2.06.94-2.06 2.06-.94-2.06-.94-.94-2.06-.94 2.06-2.06.94zm-11 1L8.5 8.5l.94-2.06 2.06-.94-2.06-.94L8.5 2.5l-.94 2.06-2.06.94zm10 10l.94 2.06.94-2.06 2.06-.94-2.06-.94-.94-2.06-.94 2.06-2.06.94z\"/><path d=\"M17.41 7.96l-1.37-1.37c-.4-.4-.92-.59-1.43-.59-.52 0-1.04.2-1.43.59L10.3 9.45l-7.72 7.72c-.78.78-.78 2.05 0 2.83L4 21.41c.39.39.9.59 1.41.59.51 0 1.02-.2 1.41-.59l7.78-7.78 2.81-2.81c.8-.78.8-2.07 0-2.86zM5.41 20L4 18.59l7.72-7.72 1.47 1.35L5.41 20z\"/>\n",
              "  </svg>\n",
              "      </button>\n",
              "      \n",
              "  <style>\n",
              "    .colab-df-container {\n",
              "      display:flex;\n",
              "      flex-wrap:wrap;\n",
              "      gap: 12px;\n",
              "    }\n",
              "\n",
              "    .colab-df-convert {\n",
              "      background-color: #E8F0FE;\n",
              "      border: none;\n",
              "      border-radius: 50%;\n",
              "      cursor: pointer;\n",
              "      display: none;\n",
              "      fill: #1967D2;\n",
              "      height: 32px;\n",
              "      padding: 0 0 0 0;\n",
              "      width: 32px;\n",
              "    }\n",
              "\n",
              "    .colab-df-convert:hover {\n",
              "      background-color: #E2EBFA;\n",
              "      box-shadow: 0px 1px 2px rgba(60, 64, 67, 0.3), 0px 1px 3px 1px rgba(60, 64, 67, 0.15);\n",
              "      fill: #174EA6;\n",
              "    }\n",
              "\n",
              "    [theme=dark] .colab-df-convert {\n",
              "      background-color: #3B4455;\n",
              "      fill: #D2E3FC;\n",
              "    }\n",
              "\n",
              "    [theme=dark] .colab-df-convert:hover {\n",
              "      background-color: #434B5C;\n",
              "      box-shadow: 0px 1px 3px 1px rgba(0, 0, 0, 0.15);\n",
              "      filter: drop-shadow(0px 1px 2px rgba(0, 0, 0, 0.3));\n",
              "      fill: #FFFFFF;\n",
              "    }\n",
              "  </style>\n",
              "\n",
              "      <script>\n",
              "        const buttonEl =\n",
              "          document.querySelector('#df-22785a72-0465-40c7-ae1e-8b6dac446505 button.colab-df-convert');\n",
              "        buttonEl.style.display =\n",
              "          google.colab.kernel.accessAllowed ? 'block' : 'none';\n",
              "\n",
              "        async function convertToInteractive(key) {\n",
              "          const element = document.querySelector('#df-22785a72-0465-40c7-ae1e-8b6dac446505');\n",
              "          const dataTable =\n",
              "            await google.colab.kernel.invokeFunction('convertToInteractive',\n",
              "                                                     [key], {});\n",
              "          if (!dataTable) return;\n",
              "\n",
              "          const docLinkHtml = 'Like what you see? Visit the ' +\n",
              "            '<a target=\"_blank\" href=https://colab.research.google.com/notebooks/data_table.ipynb>data table notebook</a>'\n",
              "            + ' to learn more about interactive tables.';\n",
              "          element.innerHTML = '';\n",
              "          dataTable['output_type'] = 'display_data';\n",
              "          await google.colab.output.renderOutput(dataTable, element);\n",
              "          const docLink = document.createElement('div');\n",
              "          docLink.innerHTML = docLinkHtml;\n",
              "          element.appendChild(docLink);\n",
              "        }\n",
              "      </script>\n",
              "    </div>\n",
              "  </div>\n",
              "  "
            ]
          },
          "metadata": {},
          "execution_count": 3
        }
      ],
      "source": [
        "import pandas as pd\n",
        "\n",
        "# Dataset URL (CSV File): https://bit.ly/UsersBehaviourTelco\n",
        "\n",
        "meg_df = pd.read_csv(\"https://bit.ly/UsersBehaviourTelco\")\n",
        "meg_df.head()"
      ]
    },
    {
      "cell_type": "markdown",
      "source": [
        "##Data Exploration"
      ],
      "metadata": {
        "id": "ERAJHGwy730r"
      }
    },
    {
      "cell_type": "code",
      "source": [
        "#get the shape of the df\n",
        "meg_df.shape"
      ],
      "metadata": {
        "colab": {
          "base_uri": "https://localhost:8080/"
        },
        "id": "j5G_XlsH89iL",
        "outputId": "2589d4a7-dd9e-4b70-bb46-fdd9179ddced"
      },
      "execution_count": 4,
      "outputs": [
        {
          "output_type": "execute_result",
          "data": {
            "text/plain": [
              "(3214, 5)"
            ]
          },
          "metadata": {},
          "execution_count": 4
        }
      ]
    },
    {
      "cell_type": "code",
      "source": [
        "# Describe the Data\n",
        "meg_df.info()"
      ],
      "metadata": {
        "colab": {
          "base_uri": "https://localhost:8080/"
        },
        "id": "JYgMvuND9F1D",
        "outputId": "128c6d65-0317-4a5e-f2fc-e0185895e3d9"
      },
      "execution_count": 5,
      "outputs": [
        {
          "output_type": "stream",
          "name": "stdout",
          "text": [
            "<class 'pandas.core.frame.DataFrame'>\n",
            "RangeIndex: 3214 entries, 0 to 3213\n",
            "Data columns (total 5 columns):\n",
            " #   Column    Non-Null Count  Dtype  \n",
            "---  ------    --------------  -----  \n",
            " 0   calls     3214 non-null   float64\n",
            " 1   minutes   3214 non-null   float64\n",
            " 2   messages  3214 non-null   float64\n",
            " 3   mb_used   3214 non-null   float64\n",
            " 4   is_ultra  3214 non-null   int64  \n",
            "dtypes: float64(4), int64(1)\n",
            "memory usage: 125.7 KB\n"
          ]
        }
      ]
    },
    {
      "cell_type": "code",
      "source": [
        "# descripe data\n",
        "meg_df.describe()"
      ],
      "metadata": {
        "colab": {
          "base_uri": "https://localhost:8080/",
          "height": 300
        },
        "id": "B-CEGxbW9tRk",
        "outputId": "8a921f18-91e9-400e-f1f3-e8d466b58326"
      },
      "execution_count": 6,
      "outputs": [
        {
          "output_type": "execute_result",
          "data": {
            "text/plain": [
              "             calls      minutes     messages       mb_used     is_ultra\n",
              "count  3214.000000  3214.000000  3214.000000   3214.000000  3214.000000\n",
              "mean     63.038892   438.208787    38.281269  17207.673836     0.306472\n",
              "std      33.236368   234.569872    36.148326   7570.968246     0.461100\n",
              "min       0.000000     0.000000     0.000000      0.000000     0.000000\n",
              "25%      40.000000   274.575000     9.000000  12491.902500     0.000000\n",
              "50%      62.000000   430.600000    30.000000  16943.235000     0.000000\n",
              "75%      82.000000   571.927500    57.000000  21424.700000     1.000000\n",
              "max     244.000000  1632.060000   224.000000  49745.730000     1.000000"
            ],
            "text/html": [
              "\n",
              "  <div id=\"df-bf627f5b-2b95-47ba-964d-4d2e7b4bf420\">\n",
              "    <div class=\"colab-df-container\">\n",
              "      <div>\n",
              "<style scoped>\n",
              "    .dataframe tbody tr th:only-of-type {\n",
              "        vertical-align: middle;\n",
              "    }\n",
              "\n",
              "    .dataframe tbody tr th {\n",
              "        vertical-align: top;\n",
              "    }\n",
              "\n",
              "    .dataframe thead th {\n",
              "        text-align: right;\n",
              "    }\n",
              "</style>\n",
              "<table border=\"1\" class=\"dataframe\">\n",
              "  <thead>\n",
              "    <tr style=\"text-align: right;\">\n",
              "      <th></th>\n",
              "      <th>calls</th>\n",
              "      <th>minutes</th>\n",
              "      <th>messages</th>\n",
              "      <th>mb_used</th>\n",
              "      <th>is_ultra</th>\n",
              "    </tr>\n",
              "  </thead>\n",
              "  <tbody>\n",
              "    <tr>\n",
              "      <th>count</th>\n",
              "      <td>3214.000000</td>\n",
              "      <td>3214.000000</td>\n",
              "      <td>3214.000000</td>\n",
              "      <td>3214.000000</td>\n",
              "      <td>3214.000000</td>\n",
              "    </tr>\n",
              "    <tr>\n",
              "      <th>mean</th>\n",
              "      <td>63.038892</td>\n",
              "      <td>438.208787</td>\n",
              "      <td>38.281269</td>\n",
              "      <td>17207.673836</td>\n",
              "      <td>0.306472</td>\n",
              "    </tr>\n",
              "    <tr>\n",
              "      <th>std</th>\n",
              "      <td>33.236368</td>\n",
              "      <td>234.569872</td>\n",
              "      <td>36.148326</td>\n",
              "      <td>7570.968246</td>\n",
              "      <td>0.461100</td>\n",
              "    </tr>\n",
              "    <tr>\n",
              "      <th>min</th>\n",
              "      <td>0.000000</td>\n",
              "      <td>0.000000</td>\n",
              "      <td>0.000000</td>\n",
              "      <td>0.000000</td>\n",
              "      <td>0.000000</td>\n",
              "    </tr>\n",
              "    <tr>\n",
              "      <th>25%</th>\n",
              "      <td>40.000000</td>\n",
              "      <td>274.575000</td>\n",
              "      <td>9.000000</td>\n",
              "      <td>12491.902500</td>\n",
              "      <td>0.000000</td>\n",
              "    </tr>\n",
              "    <tr>\n",
              "      <th>50%</th>\n",
              "      <td>62.000000</td>\n",
              "      <td>430.600000</td>\n",
              "      <td>30.000000</td>\n",
              "      <td>16943.235000</td>\n",
              "      <td>0.000000</td>\n",
              "    </tr>\n",
              "    <tr>\n",
              "      <th>75%</th>\n",
              "      <td>82.000000</td>\n",
              "      <td>571.927500</td>\n",
              "      <td>57.000000</td>\n",
              "      <td>21424.700000</td>\n",
              "      <td>1.000000</td>\n",
              "    </tr>\n",
              "    <tr>\n",
              "      <th>max</th>\n",
              "      <td>244.000000</td>\n",
              "      <td>1632.060000</td>\n",
              "      <td>224.000000</td>\n",
              "      <td>49745.730000</td>\n",
              "      <td>1.000000</td>\n",
              "    </tr>\n",
              "  </tbody>\n",
              "</table>\n",
              "</div>\n",
              "      <button class=\"colab-df-convert\" onclick=\"convertToInteractive('df-bf627f5b-2b95-47ba-964d-4d2e7b4bf420')\"\n",
              "              title=\"Convert this dataframe to an interactive table.\"\n",
              "              style=\"display:none;\">\n",
              "        \n",
              "  <svg xmlns=\"http://www.w3.org/2000/svg\" height=\"24px\"viewBox=\"0 0 24 24\"\n",
              "       width=\"24px\">\n",
              "    <path d=\"M0 0h24v24H0V0z\" fill=\"none\"/>\n",
              "    <path d=\"M18.56 5.44l.94 2.06.94-2.06 2.06-.94-2.06-.94-.94-2.06-.94 2.06-2.06.94zm-11 1L8.5 8.5l.94-2.06 2.06-.94-2.06-.94L8.5 2.5l-.94 2.06-2.06.94zm10 10l.94 2.06.94-2.06 2.06-.94-2.06-.94-.94-2.06-.94 2.06-2.06.94z\"/><path d=\"M17.41 7.96l-1.37-1.37c-.4-.4-.92-.59-1.43-.59-.52 0-1.04.2-1.43.59L10.3 9.45l-7.72 7.72c-.78.78-.78 2.05 0 2.83L4 21.41c.39.39.9.59 1.41.59.51 0 1.02-.2 1.41-.59l7.78-7.78 2.81-2.81c.8-.78.8-2.07 0-2.86zM5.41 20L4 18.59l7.72-7.72 1.47 1.35L5.41 20z\"/>\n",
              "  </svg>\n",
              "      </button>\n",
              "      \n",
              "  <style>\n",
              "    .colab-df-container {\n",
              "      display:flex;\n",
              "      flex-wrap:wrap;\n",
              "      gap: 12px;\n",
              "    }\n",
              "\n",
              "    .colab-df-convert {\n",
              "      background-color: #E8F0FE;\n",
              "      border: none;\n",
              "      border-radius: 50%;\n",
              "      cursor: pointer;\n",
              "      display: none;\n",
              "      fill: #1967D2;\n",
              "      height: 32px;\n",
              "      padding: 0 0 0 0;\n",
              "      width: 32px;\n",
              "    }\n",
              "\n",
              "    .colab-df-convert:hover {\n",
              "      background-color: #E2EBFA;\n",
              "      box-shadow: 0px 1px 2px rgba(60, 64, 67, 0.3), 0px 1px 3px 1px rgba(60, 64, 67, 0.15);\n",
              "      fill: #174EA6;\n",
              "    }\n",
              "\n",
              "    [theme=dark] .colab-df-convert {\n",
              "      background-color: #3B4455;\n",
              "      fill: #D2E3FC;\n",
              "    }\n",
              "\n",
              "    [theme=dark] .colab-df-convert:hover {\n",
              "      background-color: #434B5C;\n",
              "      box-shadow: 0px 1px 3px 1px rgba(0, 0, 0, 0.15);\n",
              "      filter: drop-shadow(0px 1px 2px rgba(0, 0, 0, 0.3));\n",
              "      fill: #FFFFFF;\n",
              "    }\n",
              "  </style>\n",
              "\n",
              "      <script>\n",
              "        const buttonEl =\n",
              "          document.querySelector('#df-bf627f5b-2b95-47ba-964d-4d2e7b4bf420 button.colab-df-convert');\n",
              "        buttonEl.style.display =\n",
              "          google.colab.kernel.accessAllowed ? 'block' : 'none';\n",
              "\n",
              "        async function convertToInteractive(key) {\n",
              "          const element = document.querySelector('#df-bf627f5b-2b95-47ba-964d-4d2e7b4bf420');\n",
              "          const dataTable =\n",
              "            await google.colab.kernel.invokeFunction('convertToInteractive',\n",
              "                                                     [key], {});\n",
              "          if (!dataTable) return;\n",
              "\n",
              "          const docLinkHtml = 'Like what you see? Visit the ' +\n",
              "            '<a target=\"_blank\" href=https://colab.research.google.com/notebooks/data_table.ipynb>data table notebook</a>'\n",
              "            + ' to learn more about interactive tables.';\n",
              "          element.innerHTML = '';\n",
              "          dataTable['output_type'] = 'display_data';\n",
              "          await google.colab.output.renderOutput(dataTable, element);\n",
              "          const docLink = document.createElement('div');\n",
              "          docLink.innerHTML = docLinkHtml;\n",
              "          element.appendChild(docLink);\n",
              "        }\n",
              "      </script>\n",
              "    </div>\n",
              "  </div>\n",
              "  "
            ]
          },
          "metadata": {},
          "execution_count": 6
        }
      ]
    },
    {
      "cell_type": "code",
      "source": [
        "#see the amount of data on each target\n",
        "meg_df['is_ultra'].value_counts()"
      ],
      "metadata": {
        "colab": {
          "base_uri": "https://localhost:8080/"
        },
        "id": "WwiVx7S39MYv",
        "outputId": "b0a8a61f-ceed-4c31-d5b9-4814a58a2ec5"
      },
      "execution_count": 7,
      "outputs": [
        {
          "output_type": "execute_result",
          "data": {
            "text/plain": [
              "0    2229\n",
              "1     985\n",
              "Name: is_ultra, dtype: int64"
            ]
          },
          "metadata": {},
          "execution_count": 7
        }
      ]
    },
    {
      "cell_type": "code",
      "source": [
        "# Expressing those promoted and those not as a percentage\n",
        "print('1. Smart plans users %,  ' \n",
        "      + str(round(((meg_df[\"is_ultra\"].isin([0]).sum())/meg_df.shape[0])*100,2)) + ' %')\n",
        "print('2. Smart plans users on Ultra plan % , ' \n",
        "      + str(round(((meg_df[\"is_ultra\"].isin([1]).sum())/meg_df.shape[0])*100,2)) + ' %')"
      ],
      "metadata": {
        "colab": {
          "base_uri": "https://localhost:8080/"
        },
        "id": "4Z048spt9T67",
        "outputId": "7dc1e55d-32d9-49cb-bd97-42288d8bbc94"
      },
      "execution_count": 8,
      "outputs": [
        {
          "output_type": "stream",
          "name": "stdout",
          "text": [
            "1. Smart plans users %,  69.35 %\n",
            "2. Smart plans users on Ultra plan % , 30.65 %\n"
          ]
        }
      ]
    },
    {
      "cell_type": "markdown",
      "source": [
        "##Data Cleaning "
      ],
      "metadata": {
        "id": "m0nPCs3W78lK"
      }
    },
    {
      "cell_type": "markdown",
      "source": [
        "Data cleaning has already been done for this data set as per the instructions\n",
        "\n",
        "*Since you’ve already performed the data preprocessing step, you can move straight to creating the model*"
      ],
      "metadata": {
        "id": "_yRdfdkC7_YL"
      }
    },
    {
      "cell_type": "markdown",
      "source": [
        "##Data Preparation"
      ],
      "metadata": {
        "id": "dAMkXPqa8PDk"
      }
    },
    {
      "cell_type": "code",
      "source": [
        "# check correlation of features and target\n",
        "\n",
        "import matplotlib.pyplot as plt\n",
        "import seaborn as sns\n",
        "\n",
        "features = meg_df.columns\n",
        "corr_= meg_df[features].corr()\n",
        "plt.figure(figsize=(6,4))\n",
        "sns.heatmap(corr_, annot=True, fmt = \".2f\", cmap = \"YlGn\");"
      ],
      "metadata": {
        "colab": {
          "base_uri": "https://localhost:8080/",
          "height": 270
        },
        "id": "ijJ3Vmxf9_cx",
        "outputId": "e0b35e10-99ea-4b83-933a-abe57c4c49ee"
      },
      "execution_count": 9,
      "outputs": [
        {
          "output_type": "display_data",
          "data": {
            "text/plain": [
              "<Figure size 432x288 with 2 Axes>"
            ],
            "image/png": "[encoded data removed]"
          },
          "metadata": {
            "needs_background": "light"
          }
        }
      ]
    },
    {
      "cell_type": "code",
      "source": [
        "# plot Histogram for features to show relationship between them and target \n",
        "for feature in features[:-1]:\n",
        "  plt.hist(meg_df[meg_df['is_ultra']==1][feature], color= 'blue', alpha = 0.7, label = 'Ultra', density=True)\n",
        "  plt.hist(meg_df[meg_df['is_ultra']==0][feature], color= 'red', alpha = 0.7, label = 'Smart', density=True)\n",
        "  plt.title(feature)\n",
        "  plt.ylabel('Probability')\n",
        "  plt.xlabel(feature)\n",
        "  plt.legend()\n",
        "  plt.show()"
      ],
      "metadata": {
        "colab": {
          "base_uri": "https://localhost:8080/",
          "height": 1000
        },
        "id": "ZksSBznv-pXx",
        "outputId": "02abd670-03d8-4a7c-b61c-c63326b29e36"
      },
      "execution_count": 10,
      "outputs": [
        {
          "output_type": "display_data",
          "data": {
            "text/plain": [
              "<Figure size 432x288 with 1 Axes>"
            ],
            "image/png": "[encoded data removed]"
          },
          "metadata": {
            "needs_background": "light"
          }
        },
        {
          "output_type": "display_data",
          "data": {
            "text/plain": [
              "<Figure size 432x288 with 1 Axes>"
            ],
            "image/png": "[encoded data removed]"
          },
          "metadata": {
            "needs_background": "light"
          }
        },
        {
          "output_type": "display_data",
          "data": {
            "text/plain": [
              "<Figure size 432x288 with 1 Axes>"
            ],
            "image/png": "[encoded data removed]"
          },
          "metadata": {
            "needs_background": "light"
          }
        },
        {
          "output_type": "display_data",
          "data": {
            "text/plain": [
              "<Figure size 432x288 with 1 Axes>"
            ],
            "image/png": "[encoded data removed]"
          },
          "metadata": {
            "needs_background": "light"
          }
        }
      ]
    },
    {
      "cell_type": "code",
      "source": [
        "# Split the source data into a training set, a validation set, and a test set.\n",
        "from sklearn.model_selection import train_test_split"
      ],
      "metadata": {
        "id": "xHiHO5X17f5A"
      },
      "execution_count": 11,
      "outputs": []
    },
    {
      "cell_type": "code",
      "source": [
        "features = meg_df.drop(['is_ultra'], axis=1)\n",
        "target = meg_df['is_ultra']\n",
        "\n",
        "# set aside 20% of train and test data for evaluation\n",
        "X_train, X_test, Y_train, Y_test = train_test_split(features, target, test_size=0.2, random_state = 54321)\n",
        "\n",
        "# Use the same function above for the validation set\n",
        "X_train, X_val, Y_train, Y_val = train_test_split(X_train, Y_train, test_size=0.25, random_state= 54321) # 0.25 x 0.8 = 0.2\n",
        "\n",
        "# Check the shape of our new datasets\n",
        "print(f\"X_train shape: {X_train.shape}\")\n",
        "print(f\"X_test shape: {X_test.shape}\")\n",
        "print(f\"Y_train shape: {Y_train.shape}\")\n",
        "print(f\"Y_test shape: {Y_test.shape}\")\n",
        "print(f\"X_val shape: {Y_train.shape}\")\n",
        "print(f\"Y_val shape: {Y_test.shape}\")"
      ],
      "metadata": {
        "colab": {
          "base_uri": "https://localhost:8080/"
        },
        "id": "H192ijL0_Luc",
        "outputId": "7541a65a-a675-4cb0-c4ef-94c4239d614c"
      },
      "execution_count": 12,
      "outputs": [
        {
          "output_type": "stream",
          "name": "stdout",
          "text": [
            "X_train shape: (1928, 4)\n",
            "X_test shape: (643, 4)\n",
            "Y_train shape: (1928,)\n",
            "Y_test shape: (643,)\n",
            "X_val shape: (1928,)\n",
            "Y_val shape: (643,)\n"
          ]
        }
      ]
    },
    {
      "cell_type": "markdown",
      "source": [
        "##Data Modeling"
      ],
      "metadata": {
        "id": "tas4BRmU8cUE"
      }
    },
    {
      "cell_type": "code",
      "source": [
        "# 3. Investigate the quality of different models by changing hyperparameters. Briefly\n",
        "# describe the findings of the study."
      ],
      "metadata": {
        "id": "pKVqwn2A7fyT"
      },
      "execution_count": 1,
      "outputs": []
    },
    {
      "cell_type": "code",
      "source": [
        "from sklearn.tree import DecisionTreeRegressor, DecisionTreeClassifier\n",
        "# RandomForestRegressor and is located in sklearn.ensemble module.\n",
        "from sklearn.ensemble import RandomForestClassifier\n",
        "from sklearn.linear_model import LogisticRegression\n",
        "\n",
        "dec_regressor = DecisionTreeClassifier(random_state=27)\n",
        "log_regressor = LogisticRegression()\n",
        "fst_regressor = RandomForestClassifier(random_state= 14)\n",
        "\n",
        "\n",
        "dec_regressor.fit(X_train, Y_train)\n",
        "log_regressor.fit(X_train, Y_train)\n",
        "fst_regressor.fit(X_train, Y_train)\n",
        "\n",
        "# Making Predictions using the validation set\n",
        "dec_y_pred = dec_regressor.predict(X_val)\n",
        "log_y_pred = log_regressor.predict(X_val)\n",
        "fst_y_pred = fst_regressor.predict(X_val)\n",
        "\n",
        "from sklearn.metrics import mean_squared_error\n",
        "# Finally, evaluating our models \n",
        "print(f'Decision Tree RMSE: {mean_squared_error(Y_val, dec_y_pred, squared=False)}')\n",
        "print(f'Linear Regression RMSE:{mean_squared_error(Y_val, log_y_pred, squared=False)}')\n",
        "print(f'Random Forest Classifier RMSE: {mean_squared_error(Y_val, fst_y_pred, squared=False)}')\n",
        "\n"
      ],
      "metadata": {
        "id": "c0912ozZCMBC",
        "colab": {
          "base_uri": "https://localhost:8080/"
        },
        "outputId": "8d711880-2c88-4bae-aeab-3bf8aca4a6c6"
      },
      "execution_count": 13,
      "outputs": [
        {
          "output_type": "stream",
          "name": "stdout",
          "text": [
            "Decision Tree RMSE: 0.5050291400982393\n",
            "Linear Regression RMSE:0.5156945821140386\n",
            "Random Forest Classifier RMSE: 0.4136098341043249\n"
          ]
        }
      ]
    },
    {
      "cell_type": "code",
      "source": [
        "from sklearn.metrics import classification_report\n",
        "# print classification report for Decision Tree Regressor\n",
        "print(f'DecisionTreeClassifier classification report:\\n {classification_report(Y_test, dec_y_pred)}')"
      ],
      "metadata": {
        "colab": {
          "base_uri": "https://localhost:8080/"
        },
        "id": "GOvWnAN3HbJK",
        "outputId": "46b057ab-25e9-4839-d134-313735c93292"
      },
      "execution_count": 14,
      "outputs": [
        {
          "output_type": "stream",
          "name": "stdout",
          "text": [
            "DecisionTreeClassifier classification report:\n",
            "               precision    recall  f1-score   support\n",
            "\n",
            "           0       0.67      0.70      0.68       427\n",
            "           1       0.35      0.32      0.34       216\n",
            "\n",
            "    accuracy                           0.57       643\n",
            "   macro avg       0.51      0.51      0.51       643\n",
            "weighted avg       0.56      0.57      0.57       643\n",
            "\n"
          ]
        }
      ]
    },
    {
      "cell_type": "code",
      "source": [
        "# print classification report for Logistic Regression\n",
        "print(f'Logistic Regression classification report:\\n {classification_report(Y_test, log_y_pred)}')"
      ],
      "metadata": {
        "colab": {
          "base_uri": "https://localhost:8080/"
        },
        "id": "pJgGr8lWHeTj",
        "outputId": "eec27589-bbee-404a-d5e9-eaf6ca667251"
      },
      "execution_count": 15,
      "outputs": [
        {
          "output_type": "stream",
          "name": "stdout",
          "text": [
            "Logistic Regression classification report:\n",
            "               precision    recall  f1-score   support\n",
            "\n",
            "           0       0.66      0.97      0.79       427\n",
            "           1       0.33      0.03      0.05       216\n",
            "\n",
            "    accuracy                           0.65       643\n",
            "   macro avg       0.50      0.50      0.42       643\n",
            "weighted avg       0.55      0.65      0.54       643\n",
            "\n"
          ]
        }
      ]
    },
    {
      "cell_type": "code",
      "source": [
        "# print classification report for Random Forest Classifier \n",
        "print(f'Random Forest Classifier classification report:\\n {classification_report(Y_test, fst_y_pred)}')"
      ],
      "metadata": {
        "colab": {
          "base_uri": "https://localhost:8080/"
        },
        "id": "265oKRnyHpQ1",
        "outputId": "d1e238ac-27c5-4c7e-8d24-74acbfef068b"
      },
      "execution_count": 16,
      "outputs": [
        {
          "output_type": "stream",
          "name": "stdout",
          "text": [
            "Random Forest Classifier classification report:\n",
            "               precision    recall  f1-score   support\n",
            "\n",
            "           0       0.67      0.77      0.71       427\n",
            "           1       0.34      0.24      0.28       216\n",
            "\n",
            "    accuracy                           0.59       643\n",
            "   macro avg       0.51      0.50      0.50       643\n",
            "weighted avg       0.56      0.59      0.57       643\n",
            "\n"
          ]
        }
      ]
    },
    {
      "cell_type": "markdown",
      "source": [
        "From the analysis the model perfomance accuracy were as follows:\n",
        "\n",
        "DecisionTreeClassifier 0.57\n",
        "\n",
        "Logistic Regression 0.65\n",
        "\n",
        "Random Forest Classifier 0.59 "
      ],
      "metadata": {
        "id": "f-rZ4YtFIsT9"
      }
    },
    {
      "cell_type": "markdown",
      "source": [
        "###Model Improvement with Hyperparameters"
      ],
      "metadata": {
        "id": "t2OJWfOiHtv3"
      }
    },
    {
      "cell_type": "code",
      "source": [
        "##find the best tree depth with best accuracy\n",
        "from sklearn.metrics import accuracy_score\n",
        "best_score = 0\n",
        "for depth in range(1,10):\n",
        "  model = DecisionTreeClassifier(max_depth=depth, random_state=27)\n",
        "  model.fit(X_test, Y_test)\n",
        "  pred = model.predict(X_val)\n",
        "  score = accuracy_score(Y_val, pred)\n",
        "  if score > best_score: best_score = score\n",
        "print(f'Tree accuracy with Validation: {best_score} at depth of: {depth}')"
      ],
      "metadata": {
        "colab": {
          "base_uri": "https://localhost:8080/"
        },
        "id": "ZbIuzFdEHsYs",
        "outputId": "7b7e2d09-6e46-45f2-85dc-7931119a72a1"
      },
      "execution_count": 17,
      "outputs": [
        {
          "output_type": "stream",
          "name": "stdout",
          "text": [
            "Tree accuracy with Validation: 0.807153965785381 at depth of: 9\n"
          ]
        }
      ]
    },
    {
      "cell_type": "code",
      "source": [
        "#find the best n estimator for random forest with best accuracy\n",
        "best_score = 0\n",
        "for n in range(1,20):\n",
        "  model = RandomForestClassifier(n_estimators=n, random_state=12345)\n",
        "  model.fit(X_train, Y_train)\n",
        "  score = model.score(X_val, Y_val)\n",
        "  if score > best_score: best_score = score\n",
        "print(f'Forest accuracy with Validation: {best_score} for n trees: {n}')"
      ],
      "metadata": {
        "colab": {
          "base_uri": "https://localhost:8080/"
        },
        "id": "nvYzrc0ZNOZS",
        "outputId": "cdc7f5ce-4678-4704-99d0-ed8ddd03429f"
      },
      "execution_count": 18,
      "outputs": [
        {
          "output_type": "stream",
          "name": "stdout",
          "text": [
            "Forest accuracy with Validation: 0.8242612752721618 for n trees: 19\n"
          ]
        }
      ]
    },
    {
      "cell_type": "code",
      "source": [
        "# Retrain our models with hyper parameteres \n",
        "dec_regressor = DecisionTreeClassifier(random_state=27,max_depth = 9 )\n",
        "log_regressor = LogisticRegression()\n",
        "fst_regressor = RandomForestClassifier(random_state= 14, n_estimators = 19)"
      ],
      "metadata": {
        "id": "hc8zVs3GOmhC"
      },
      "execution_count": 19,
      "outputs": []
    },
    {
      "cell_type": "code",
      "source": [
        "dec_regressor.fit(X_train, Y_train)\n",
        "log_regressor.fit(X_train, Y_train)\n",
        "fst_regressor.fit(X_train, Y_train)\n"
      ],
      "metadata": {
        "colab": {
          "base_uri": "https://localhost:8080/"
        },
        "id": "zrrGiawxO48e",
        "outputId": "9f30b326-3823-46c8-e6db-5077beee28d0"
      },
      "execution_count": 20,
      "outputs": [
        {
          "output_type": "execute_result",
          "data": {
            "text/plain": [
              "RandomForestClassifier(n_estimators=19, random_state=14)"
            ]
          },
          "metadata": {},
          "execution_count": 20
        }
      ]
    },
    {
      "cell_type": "markdown",
      "source": [
        "##Model Evaluation"
      ],
      "metadata": {
        "id": "SMzq23uy8n1R"
      }
    },
    {
      "cell_type": "code",
      "source": [
        "# 4. Check the quality of the model using the test set.\n",
        "\n",
        "# Making Predictions using the test set\n",
        "dec_y_pred = dec_regressor.predict(X_test)\n",
        "log_y_pred = log_regressor.predict(X_test)\n",
        "fst_y_pred = fst_regressor.predict(X_test)\n",
        "\n",
        "\n",
        "# evaluating our models \n",
        "print(f'Decision Tree RMSE: {mean_squared_error(Y_test, dec_y_pred, squared=False)}')\n",
        "print(f'Linear Regression RMSE:{mean_squared_error(Y_test, log_y_pred, squared=False)}')\n",
        "print(f'Random Forest Classifier RMSE: {mean_squared_error(Y_test, fst_y_pred, squared=False)}')"
      ],
      "metadata": {
        "id": "4UXHq4EE7fkE",
        "colab": {
          "base_uri": "https://localhost:8080/"
        },
        "outputId": "5d5fc333-25fc-4d91-f20b-1f6d6e5eccbe"
      },
      "execution_count": 21,
      "outputs": [
        {
          "output_type": "stream",
          "name": "stdout",
          "text": [
            "Decision Tree RMSE: 0.4877982399123497\n",
            "Linear Regression RMSE:0.5714841119420357\n",
            "Random Forest Classifier RMSE: 0.4748741340974856\n"
          ]
        }
      ]
    },
    {
      "cell_type": "code",
      "source": [
        "# 5. Additional task: sanity check the model. This data is more complex than what\n",
        "# you’re used to working with, so it's not an easy task. We'll take a closer look at it\n",
        "# later."
      ],
      "metadata": {
        "id": "TCQYA-MP8uiu"
      },
      "execution_count": 22,
      "outputs": []
    },
    {
      "cell_type": "code",
      "source": [
        "from sklearn.metrics import classification_report\n",
        "# print classification report for Decision Tree Classifier \n",
        "print(f'DecisionTreeClassifier classification report:\\n {classification_report(Y_test, dec_y_pred)}')"
      ],
      "metadata": {
        "colab": {
          "base_uri": "https://localhost:8080/"
        },
        "id": "2hQzLlZc_wWI",
        "outputId": "6165d66f-d146-4a8f-e28b-c8922c089fa7"
      },
      "execution_count": 23,
      "outputs": [
        {
          "output_type": "stream",
          "name": "stdout",
          "text": [
            "DecisionTreeClassifier classification report:\n",
            "               precision    recall  f1-score   support\n",
            "\n",
            "           0       0.76      0.93      0.84       427\n",
            "           1       0.76      0.43      0.55       216\n",
            "\n",
            "    accuracy                           0.76       643\n",
            "   macro avg       0.76      0.68      0.69       643\n",
            "weighted avg       0.76      0.76      0.74       643\n",
            "\n"
          ]
        }
      ]
    },
    {
      "cell_type": "code",
      "source": [
        "# print classification report for Logistic Regression\n",
        "print(f'Logistic Regression classification report:\\n {classification_report(Y_test, log_y_pred)}')"
      ],
      "metadata": {
        "colab": {
          "base_uri": "https://localhost:8080/"
        },
        "id": "NOGVTQecAjjN",
        "outputId": "09aea032-428f-4ade-da54-2a46133d0480"
      },
      "execution_count": 24,
      "outputs": [
        {
          "output_type": "stream",
          "name": "stdout",
          "text": [
            "Logistic Regression classification report:\n",
            "               precision    recall  f1-score   support\n",
            "\n",
            "           0       0.67      0.98      0.80       427\n",
            "           1       0.65      0.06      0.11       216\n",
            "\n",
            "    accuracy                           0.67       643\n",
            "   macro avg       0.66      0.52      0.46       643\n",
            "weighted avg       0.67      0.67      0.57       643\n",
            "\n"
          ]
        }
      ]
    },
    {
      "cell_type": "code",
      "source": [
        "# print classification report for Random Forest Regressor\n",
        "print(f'Random Forest Classifier classification report:\\n {classification_report(Y_test, fst_y_pred)}')"
      ],
      "metadata": {
        "colab": {
          "base_uri": "https://localhost:8080/"
        },
        "id": "fN2zDUTUEa-s",
        "outputId": "b0f7ce88-5e2b-4acb-c3db-3699d4ae861e"
      },
      "execution_count": 25,
      "outputs": [
        {
          "output_type": "stream",
          "name": "stdout",
          "text": [
            "Random Forest Classifier classification report:\n",
            "               precision    recall  f1-score   support\n",
            "\n",
            "           0       0.78      0.92      0.84       427\n",
            "           1       0.75      0.50      0.60       216\n",
            "\n",
            "    accuracy                           0.77       643\n",
            "   macro avg       0.77      0.71      0.72       643\n",
            "weighted avg       0.77      0.77      0.76       643\n",
            "\n"
          ]
        }
      ]
    },
    {
      "cell_type": "markdown",
      "source": [
        "##Findings and Recommendations"
      ],
      "metadata": {
        "id": "K6SVlOn68vLH"
      }
    },
    {
      "cell_type": "markdown",
      "source": [
        "After performing hyperparameter tunning, the accuracy score of our model is as follows: \n",
        "\n",
        "DecisionTreeClassifier 0.76 \n",
        "\n",
        "Logistic Regression 0.67\n",
        "\n",
        "Random Forest Classifier 0.77\n",
        "\n",
        "The score gives as a conclusion that it is possible to predict the plan of customers to wether they are on smart or ultra with a fine accuracy.\n",
        "Decision Tree and Random Forest perfromed better and therefore it is recommended to be used by the customer."
      ],
      "metadata": {
        "id": "OObHmRliPIcT"
      }
    }
  ]
}